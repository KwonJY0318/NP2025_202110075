{
 "cells": [
  {
   "cell_type": "markdown",
   "id": "36dd182c",
   "metadata": {},
   "source": [
    "## 학번 202110075 이름:권준영"
   ]
  },
  {
   "cell_type": "markdown",
   "id": "e039d353",
   "metadata": {},
   "source": [
    "## 문자열\n",
    "### 문자열의 구조\n",
    "    다수의 문자를 표현하기 위한 자료구조"
   ]
  },
  {
   "cell_type": "code",
   "execution_count": 2,
   "id": "7ac6dada",
   "metadata": {},
   "outputs": [],
   "source": [
    "word = \"Python\""
   ]
  },
  {
   "cell_type": "markdown",
   "id": "68769c01",
   "metadata": {},
   "source": [
    "### 문자열 요소를 개별적으로 사용하기 -index"
   ]
  },
  {
   "cell_type": "code",
   "execution_count": 5,
   "id": "d643e19b",
   "metadata": {},
   "outputs": [
    {
     "data": {
      "text/plain": [
       "'n'"
      ]
     },
     "execution_count": 5,
     "metadata": {},
     "output_type": "execute_result"
    }
   ],
   "source": [
    "word = 'Python'\n",
    "word[5]"
   ]
  },
  {
   "cell_type": "markdown",
   "id": "f9d85f3e",
   "metadata": {},
   "source": [
    "### 문자열 슬라이싱(잘라내기)"
   ]
  },
  {
   "cell_type": "code",
   "execution_count": 8,
   "id": "2b24e05c",
   "metadata": {},
   "outputs": [
    {
     "data": {
      "text/plain": [
       "'Py'"
      ]
     },
     "execution_count": 8,
     "metadata": {},
     "output_type": "execute_result"
    }
   ],
   "source": [
    "word = 'Python'\n",
    "word[0:2] # 첨자0부터1(=2-1)까지"
   ]
  },
  {
   "cell_type": "markdown",
   "id": "47c080f4",
   "metadata": {},
   "source": [
    "### 슬라이싱을 이용하여 새로운 문자열 만들기"
   ]
  },
  {
   "cell_type": "code",
   "execution_count": 9,
   "id": "9b4bff2b",
   "metadata": {},
   "outputs": [
    {
     "data": {
      "text/plain": [
       "'Jython'"
      ]
     },
     "execution_count": 9,
     "metadata": {},
     "output_type": "execute_result"
    }
   ],
   "source": [
    "word = 'Python'\n",
    "word2 = 'J' + word[1:] # +를 이용한문자열합치기\n",
    "word2"
   ]
  },
  {
   "cell_type": "markdown",
   "id": "fc54d5bd",
   "metadata": {},
   "source": [
    "### 문자열 길이 확인"
   ]
  },
  {
   "cell_type": "code",
   "execution_count": 10,
   "id": "fdc1d782",
   "metadata": {},
   "outputs": [
    {
     "data": {
      "text/plain": [
       "6"
      ]
     },
     "execution_count": 10,
     "metadata": {},
     "output_type": "execute_result"
    }
   ],
   "source": [
    "s = 'smiles'\n",
    "len(s) # 문자열 길이 확인"
   ]
  },
  {
   "cell_type": "markdown",
   "id": "be66707f",
   "metadata": {},
   "source": [
    "### 문자열 정렬하기"
   ]
  },
  {
   "cell_type": "code",
   "execution_count": 11,
   "id": "5f9269e2",
   "metadata": {},
   "outputs": [
    {
     "data": {
      "text/plain": [
       "'     he'"
      ]
     },
     "execution_count": 11,
     "metadata": {},
     "output_type": "execute_result"
    }
   ],
   "source": [
    "'he' .rjust(7) # 오른쪽 정렬"
   ]
  },
  {
   "cell_type": "markdown",
   "id": "8d2c8002",
   "metadata": {},
   "source": [
    "## 리스트(list)\n",
    "    리스트는 여러 개의 데이터를 하나의 이름으로 저장하는 자료 구조이다."
   ]
  },
  {
   "cell_type": "markdown",
   "id": "6706f590",
   "metadata": {},
   "source": [
    "### 중첩 리스트"
   ]
  },
  {
   "cell_type": "code",
   "execution_count": 12,
   "id": "c7bb5d19",
   "metadata": {},
   "outputs": [
    {
     "data": {
      "text/plain": [
       "[['a', 'b', 'c'], [1, 2, 3]]"
      ]
     },
     "execution_count": 12,
     "metadata": {},
     "output_type": "execute_result"
    }
   ],
   "source": [
    "a = ['a', 'b', 'c']\n",
    "n = [1, 2, 3]\n",
    "x = [a, n]\n",
    "x"
   ]
  },
  {
   "cell_type": "markdown",
   "id": "f67d1c0e",
   "metadata": {},
   "source": [
    "### 리스트 길이 알아내기"
   ]
  },
  {
   "cell_type": "code",
   "execution_count": 13,
   "id": "90f7135a",
   "metadata": {},
   "outputs": [
    {
     "data": {
      "text/plain": [
       "4"
      ]
     },
     "execution_count": 13,
     "metadata": {},
     "output_type": "execute_result"
    }
   ],
   "source": [
    "letters = ['a', 'b', 'c', 'd']\n",
    "len(letters) # 리스트 길이 알아내기"
   ]
  },
  {
   "cell_type": "markdown",
   "id": "72a3fbb3",
   "metadata": {},
   "source": [
    "## 튜플\n",
    "    튜블은 리스트와 비슷한 자료구조이나 요소 값을 변결할 수 없다."
   ]
  },
  {
   "cell_type": "markdown",
   "id": "b204651d",
   "metadata": {},
   "source": [
    "### 튜플 만들기"
   ]
  },
  {
   "cell_type": "code",
   "execution_count": 15,
   "id": "1d29a5c3",
   "metadata": {},
   "outputs": [
    {
     "data": {
      "text/plain": [
       "(1, 2, 3)"
      ]
     },
     "execution_count": 15,
     "metadata": {},
     "output_type": "execute_result"
    }
   ],
   "source": [
    "t1 = (1, 2, 3)\n",
    "t1"
   ]
  },
  {
   "cell_type": "markdown",
   "id": "0e26eead",
   "metadata": {},
   "source": [
    "### 튜플 연산"
   ]
  },
  {
   "cell_type": "code",
   "execution_count": 16,
   "id": "73285d0f",
   "metadata": {},
   "outputs": [
    {
     "data": {
      "text/plain": [
       "(1, 2, 3, 'a', 'b', 'c')"
      ]
     },
     "execution_count": 16,
     "metadata": {},
     "output_type": "execute_result"
    }
   ],
   "source": [
    "t1 = (1, 2, 3)\n",
    "t2 = ('a', 'b', 'c')\n",
    "t1 + t2"
   ]
  },
  {
   "cell_type": "markdown",
   "id": "e73d29a8",
   "metadata": {},
   "source": [
    "## 딕셔너리\n",
    "    키(key):값(value)로 구성되는 자료 구조"
   ]
  },
  {
   "cell_type": "markdown",
   "id": "ed35ee8b",
   "metadata": {},
   "source": [
    "### 딕셔너리 생성 및 key 값 조사하기"
   ]
  },
  {
   "cell_type": "code",
   "execution_count": 17,
   "id": "f6aec566",
   "metadata": {},
   "outputs": [
    {
     "data": {
      "text/plain": [
       "174"
      ]
     },
     "execution_count": 17,
     "metadata": {},
     "output_type": "execute_result"
    }
   ],
   "source": [
    "height = {'Jun':174, 'Kim':170, 'Lee':165}\n",
    "height['Jun'] # 키가 Jun인 사람의 키 알아내기"
   ]
  },
  {
   "cell_type": "markdown",
   "id": "14bdfed8",
   "metadata": {},
   "source": [
    "## 집합\n",
    "    {}속에 요소들을 중복되지 않고 순서없이 모아놓은 자료 구조"
   ]
  },
  {
   "cell_type": "markdown",
   "id": "6efbdb8d",
   "metadata": {},
   "source": [
    "### 집합의 생성"
   ]
  },
  {
   "cell_type": "code",
   "execution_count": 19,
   "id": "b32d6d3a",
   "metadata": {},
   "outputs": [],
   "source": [
    "numbers = {1,2,3}\n",
    "name = set(['Kim', 'Lee', 'Park'])"
   ]
  },
  {
   "cell_type": "markdown",
   "id": "5db0343e",
   "metadata": {},
   "source": [
    "### 부분 집합 연산"
   ]
  },
  {
   "cell_type": "code",
   "execution_count": 20,
   "id": "00b85cd1",
   "metadata": {},
   "outputs": [
    {
     "data": {
      "text/plain": [
       "True"
      ]
     },
     "execution_count": 20,
     "metadata": {},
     "output_type": "execute_result"
    }
   ],
   "source": [
    "setA = {1, 2, 3}\n",
    "setB = {1, 2, 3}\n",
    "setA == setB # 두 집합이 같은지 조사"
   ]
  },
  {
   "cell_type": "code",
   "execution_count": null,
   "id": "c25d355e",
   "metadata": {},
   "outputs": [],
   "source": []
  }
 ],
 "metadata": {
  "kernelspec": {
   "display_name": "Python 3",
   "language": "python",
   "name": "python3"
  },
  "language_info": {
   "codemirror_mode": {
    "name": "ipython",
    "version": 3
   },
   "file_extension": ".py",
   "mimetype": "text/x-python",
   "name": "python",
   "nbconvert_exporter": "python",
   "pygments_lexer": "ipython3",
   "version": "3.13.7"
  }
 },
 "nbformat": 4,
 "nbformat_minor": 5
}
