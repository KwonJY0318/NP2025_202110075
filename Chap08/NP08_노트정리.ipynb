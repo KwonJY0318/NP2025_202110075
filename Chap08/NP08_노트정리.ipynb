{
 "cells": [
  {
   "cell_type": "markdown",
   "id": "0d6e3438",
   "metadata": {},
   "source": [
    "## 학번: 202110075 이름: 권준영"
   ]
  },
  {
   "cell_type": "markdown",
   "id": "1df3e621",
   "metadata": {},
   "source": [
    "## NP08장 노트정리"
   ]
  },
  {
   "cell_type": "markdown",
   "id": "776c3266",
   "metadata": {},
   "source": [
    "## 예외(exception)이란?\n",
    "    프로그램 실행 도중에 오류가 발생하면 생성되는 특별한 객체\n",
    "    \n",
    "    예외가 발생하면 파이썬은 프로그렘 실행을 중단한다.\n",
    "\n",
    "    예외처리란 예외가 발생했을 때 프로그램 실행을 중단하지 않고 ㅓ리하는 방법을 정의한 프로그램 부분이다.\n",
    "\n",
    "    예외의 종류\n",
    "        ZeroDivisionError - 0으로 나눌 때\n",
    "        IndexError - 인덱스가 범위를 벗어날 때\n",
    "        FileNotFoundError - 존재하지 않는 파일을 열려고 할 때\n",
    "        ValueError - 원하는 값을 입력 받지 못할 때\n",
    "        NameError - 정의되지 않은 변수를 사용할 때\n",
    "        TypeError - 데이터형이 맞지 않는 연산을 할 때"
   ]
  },
  {
   "cell_type": "markdown",
   "id": "ef61ff5c",
   "metadata": {},
   "source": [
    "### 예외처리(1)\n",
    "try:\n",
    "    a = 1 / b \n",
    "except ZeroDivisionError:\n",
    "    print(\"0으로 나눌 수 없습니다\")\n",
    "else: \n",
    "    print(a) "
   ]
  },
  {
   "cell_type": "markdown",
   "id": "cb3020ca",
   "metadata": {},
   "source": [
    "### 사용자가 예외 클래스를 선언하고, 함수에서 예외를 발생시키기\n",
    "    사용자 예외 클래스는 Exception 클래스에서 상속받아 정의\n",
    "    __str__ 함수를 작성하면 예외 내용을 문자열로 출력 가능\n",
    "    __init__ 함수를 작성하면 예외를 발생시킬 때 값을 전달할 수 있음"
   ]
  },
  {
   "cell_type": "code",
   "execution_count": 2,
   "id": "687a509a",
   "metadata": {},
   "outputs": [
    {
     "name": "stdout",
     "output_type": "stream",
     "text": [
      "Processed result: 2\n",
      "프로그램 종료\n"
     ]
    }
   ],
   "source": [
    "class NegaticeNumberError(Exception):\n",
    "    def __init__(self, value):\n",
    "        self.value = value\n",
    "        self.message = f\"Negative number error: {value} is not allowed.\"\n",
    "        super().__init__(self.message)\n",
    "\n",
    "    def __str__(self):\n",
    "        return self.message\n",
    "\n",
    "def process_number(n):\n",
    "    if n < 0:\n",
    "        raise NegaticeNumberError(n)\n",
    "    return n * 2\n",
    "\n",
    "try:\n",
    "    num = int(input(\"Enter a number: \"))\n",
    "    result = process_number(num)\n",
    "except ValueError:\n",
    "    print(\"Invalid input. Please enter a valid integer.\")\n",
    "except NegaticeNumberError as e:\n",
    "    print(f\"사용자 정의 예외 발생: {e}\")\n",
    "else:\n",
    "    print(f\"Processed result: {result}\")\n",
    "finally:\n",
    "    print(\"프로그램 종료\")"
   ]
  },
  {
   "cell_type": "markdown",
   "id": "a62f5f29",
   "metadata": {},
   "source": [
    "## 파이썬의 파일 처리\n",
    "\n",
    "### 표준 입출력\n",
    "    표준 입력(standard input): 키보드\n",
    "    표준 출력(standard output): 콘솔 화면\n",
    "    표준 에러(standard error): 콘솔 화면\n",
    "### 파일 입출력\n",
    "    표준 입출력 대신에 파일에 기록하는 것\n",
    "    텍스트(text)파일: 사람이 볼 수 있는 문자 데이터를 저장(메모장으로 확인 가능)\n",
    "    이진(binary)파일: 이진수 데이터를 저장\n",
    "### 파일 처리 과정\n",
    "    열기: 파일 이름과 처리 목적(읽기 또는 쓰기)를 지정해 사용하려는 파일을 열기\n",
    "    사용: 열린 파일에 대한 읽기 또는 쓰기를 진행\n",
    "    닫기: 파일의 사용이 끝나면 열린 파일을 닫아 버퍼에 있는 내용을 디스크에 모두 반영"
   ]
  },
  {
   "cell_type": "markdown",
   "id": "ac37df7a",
   "metadata": {},
   "source": [
    "### 파일 다루기: 텍스트 파일\n",
    "    'r' = 읽기 전용 모드. 파일이 존재해야함\n",
    "    'w' = 쓰기 전용 모드. 파일이 없으면 생성, 있으면 내용 덮어쓰기\n",
    "    'a' = 추가 모드. 파일 끝에 내용을 덧붙임. 없으면 생성\n",
    "    'x' = 배타적 생성 모드. 파일이 임ㅆ으면 오류 발생. 없으면 새로 생성\n",
    "\n",
    "    'r+' = 읽기/쓰기 모드. 파일이 존재해야 함\n",
    "    'w+' = 읽기/쓰기 모드. 파일을 새로 쓰기 시작함(내용 덮어쓰기)\n",
    "    'a+' = 읽기/쓰기 모드. 파일 끝에 덧붙이기. 기존 내용은 유지"
   ]
  },
  {
   "cell_type": "markdown",
   "id": "9aae487b",
   "metadata": {},
   "source": [
    "### 현재폴더(실행중인폴더)에phonebook.txt 파일을쓰기모드로열고유니코드의인코딩방식은utf-8 형식으로저장"
   ]
  },
  {
   "cell_type": "code",
   "execution_count": null,
   "id": "0f53ee02",
   "metadata": {},
   "outputs": [],
   "source": [
    "ofile=open(\"./phonebook.txt\", \"w\", encoding=\"utf-8\") # 열기\n",
    "ofile.write(\"John Doe, 123-456-7890\\nJane Smith, 987-654-3210\\n\") \n",
    "ofile.write(\"Alice Johnson, 555-123-4567\\nBob Brown, 444-987-6543\\n\")\n",
    "ofile.writeline(\"Charlie Davis, 333-222-1111\\n\")\n",
    "ofile.writeline(\"Eve White, 777-888-9999\\n\")\n",
    "ofile.close()"
   ]
  },
  {
   "cell_type": "markdown",
   "id": "5a5a3631",
   "metadata": {},
   "source": [
    "### 현재 폴더(실행중인폴더)에 유니코드의 인코딩 방식은 utf-8 형식으로 저장된 phonebook.txt 텍스트파일을 읽기 모드로 열고 각 라인을 출력하라."
   ]
  },
  {
   "cell_type": "code",
   "execution_count": 4,
   "id": "87222de1",
   "metadata": {},
   "outputs": [
    {
     "ename": "NameError",
     "evalue": "name 'line' is not defined",
     "output_type": "error",
     "traceback": [
      "\u001b[31m---------------------------------------------------------------------------\u001b[39m",
      "\u001b[31mNameError\u001b[39m                                 Traceback (most recent call last)",
      "\u001b[36mCell\u001b[39m\u001b[36m \u001b[39m\u001b[32mIn[4]\u001b[39m\u001b[32m, line 3\u001b[39m\n\u001b[32m      1\u001b[39m rfile=\u001b[38;5;28mopen\u001b[39m(\u001b[33m\"\u001b[39m\u001b[33m./phonebook.txt\u001b[39m\u001b[33m\"\u001b[39m, \u001b[33m\"\u001b[39m\u001b[33mr\u001b[39m\u001b[33m\"\u001b[39m, encoding=\u001b[33m\"\u001b[39m\u001b[33mutf-8\u001b[39m\u001b[33m\"\u001b[39m)\n\u001b[32m      2\u001b[39m Line : \u001b[38;5;28mstr\u001b[39m=rfile.readline()\n\u001b[32m----> \u001b[39m\u001b[32m3\u001b[39m \u001b[38;5;28;01mwhile\u001b[39;00m \u001b[43mline\u001b[49m:\n\u001b[32m      4\u001b[39m     \u001b[38;5;28mprint\u001b[39m(line.strip())\n\u001b[32m      5\u001b[39m     line=rfile.readline()\n",
      "\u001b[31mNameError\u001b[39m: name 'line' is not defined"
     ]
    }
   ],
   "source": [
    "rfile=open(\"./phonebook.txt\", \"r\", encoding=\"utf-8\")\n",
    "Line : str=rfile.readline()\n",
    "while line:\n",
    "    print(line.strip())\n",
    "    line=rfile.readline()\n",
    "rfile.close()\n",
    "\n",
    "rfile=open(\"./phonebook.txt\", \"r\", encoding=\"utf-8\")\n",
    "Lines : list=rfile.readlines()\n",
    "for line in Lines:\n",
    "    print(line.strip())\n",
    "rfile.close()"
   ]
  },
  {
   "cell_type": "code",
   "execution_count": null,
   "id": "67cb33ea",
   "metadata": {},
   "outputs": [],
   "source": [
    "try:\n",
    "    rfile=open(\"./phonebook1.txt\", \"r\", encoding=\"utf-8\")\n",
    "    lines: str=rfile.readline()\n",
    "    while line:\n",
    "        print(line.strip())\n",
    "        line=rfile.readline()\n",
    "    rfile.close()\n",
    "except FileNotFoundError as e:\n",
    "    print(\"File not found:\", e)"
   ]
  },
  {
   "cell_type": "markdown",
   "id": "0a4b712e",
   "metadata": {},
   "source": [
    "### 파일 열고 쓰고 닫기: 한번에 하는 방법(with ~ as)\n",
    "    전화번호: 이름 형태의 딕셔너리에 있는 값을 phonebook.txt 텍스트 파일에 쓰고 읽기 모드로 열고 각 라인을 출력하라"
   ]
  },
  {
   "cell_type": "code",
   "execution_count": null,
   "id": "0058dee1",
   "metadata": {},
   "outputs": [],
   "source": [
    "contacts: dict = {'123-456-7890': 'John Doe', '987-654-3210': 'Jane Smith’, \\\n",
    "'555-123-4567' : 'Alice Johnson', '444-987-6543': 'Bob Brown’, \\\n",
    "'333-222-1111': 'Charlie Davis', '777-888-9999': 'Eve White'}\n",
    "with open(\"./phonebook.txt\", \"w\", encoding=\"utf-8\") as wfile:\n",
    "    for key, value in contacts.items():\n",
    "        wfile.write(f\"{value}, {key}\\n\")\n",
    "with open(\"./phonebook.txt\", \"r\", encoding=\"utf-8\") as rfile:\n",
    "    line : str = rfile.readline()\n",
    "    while line:\n",
    "        key, value = line.strip().split(\", \")\n",
    "        print(f\"Name: {key}, Phone: {value}\")\n",
    "        line = rfile.readline() \n",
    "with open(\"./phonebook.txt\", \"r\", encoding=\"utf-8\") as rfile:\n",
    "    for line in rfile:\n",
    "        key, value = line.strip().split(\", \")\n",
    "        print(f\"Name: {key.strip()}, Phone: {value.strip()}\")"
   ]
  },
  {
   "cell_type": "markdown",
   "id": "d6979fcb",
   "metadata": {},
   "source": [
    "## 이진 파일 다루기\n",
    "    'rb' = 바이너리 읽기 모드\n",
    "    'wb' = 바이너리 쓰기 모드\n",
    "    'ab' = 바이너리 추가 모드\n",
    "    'rb+' = 바이너리 읽기 / 쓰기 모드\n",
    "    'wb+' = 바이너리 읽기 / 쓰기 모드(덮어쓰기)\n",
    "    'ab+' = 바이너리 읽기 / 쓰기 모드(추가)"
   ]
  },
  {
   "cell_type": "markdown",
   "id": "d5cac3cc",
   "metadata": {},
   "source": [
    "### 파일의 임의 접근\n",
    "    특정 위치(오프셋)로 가서 데이터를 읽거나 써야 할 필요가 있을 때 사용\n",
    "    특히 고정 길이 파일 구조의 특정 레코드를 임의로 접근\n",
    "    순차적이 아닌 임의 접근하므로 모든 레코드가 아닌 해당 레코드만 변경 가능"
   ]
  },
  {
   "cell_type": "markdown",
   "id": "118bfedf",
   "metadata": {},
   "source": [
    "### with~as구문\n",
    "    문법\n",
    "        with 표현식 as 변수:\n",
    "            코드 블록\n",
    "            - 표현식: 컨텍스트 관리자를 반환하는 객체\n",
    "            - as 변수는 : 그 객체의 리턴값을 변수에 할당\n",
    "            - 코드블록이 끝나면 자동으로 자원정리(__exit__)가 호출"
   ]
  },
  {
   "cell_type": "code",
   "execution_count": null,
   "id": "615d7946",
   "metadata": {},
   "outputs": [],
   "source": [
    "with open(\"data.txt\", \"r\") as f:\n",
    "    content = f.read()\n",
    "    print(content)"
   ]
  },
  {
   "cell_type": "markdown",
   "id": "66068af5",
   "metadata": {},
   "source": [
    "## F-string\n",
    "    변수나 표현식으로 내용을 변경할 수 있는 포맷 문자열f' {}'"
   ]
  },
  {
   "cell_type": "code",
   "execution_count": null,
   "id": "5c75c66f",
   "metadata": {},
   "outputs": [],
   "source": [
    "from datetime import datetime# datetime 모듈에서datetime 클래스만임포트\n",
    "number=10\n",
    "date=datetime(1988, 8, 16, 21, 30)\n",
    "print(f'{n:|^20}') # '0000000010'\n",
    "date=datetime(1988, 8, 16, 21, 30)\n",
    "now=datetime.now()\n",
    "m=20000\n",
    "a=True\n",
    "print(f'양수부호표시{n:+}')\n",
    "print(f'날짜{date:%c}')\n",
    "print(f'날짜{now:%Y년%m월%d일%H시%M분%S초}')\n",
    "print(f'{bool(a) = }') # 'bool(a) = True'\n",
    "print(f'소수점아래2자리{n:_.2f}') # ‘10.00’\n",
    "print(f'왼쪽정렬{m:<10,}') # ‘20,000’\n",
    "print(f'수식결과{3+4= }') # '3 + 4 = 7'\n",
    "print(f'우측정렬{m:0>10}') # '0000000010'\n",
    "print(f'중앙정렬과쉼표표기{m:^20,}') # ' 20,000 '\n",
    "print(f\"0으로패딩: '{num:010.2f}'\")\n",
    "print(f\"십진수: {number}\")\n",
    "print(f\"이진수: {number:b}\")\n",
    "print(f\"이진수(0b 접두사): {number:#b}\")\n",
    "print(f\"팔진수: {number:o}\")\n",
    "print(f\"팔진수(0o 접두사): {number:#o}\")\n",
    "print(f\"십육진수: {number:x}\")\n",
    "print(f\"십육진수(대문자): {number:X}\")\n",
    "print(f\"십육진수(0x 접두사): {number:#x}\")\n",
    "print(f\"십육진수(대문자, 0X 접두사): {number:#X}\")"
   ]
  },
  {
   "cell_type": "code",
   "execution_count": null,
   "id": "07fbe771",
   "metadata": {},
   "outputs": [],
   "source": [
    "#날짜와시간포맷팅\n",
    "from datetime import datetime\n",
    "\n",
    "now = datetime.now()\n",
    "birthday = datetime(1995, 5, 15, 14, 30, 0)\n",
    "\n",
    "print(f\"현재시간: {now}\")\n",
    "print(f\"기본포맷: {now:%Y-%m-%d %H:%M:%S}\")\n",
    "print(f\"한국날짜형식: {now:%Y년%m월%d일}\")\n",
    "print(f\"시간만: {now:%H:%M:%S}\")\n",
    "print(f\"AM/PM 형식: {now:%Y-%m-%d %I:%M:%S %p}\")\n",
    "print(f\"요일: {now:%A}\")\n",
    "print(f\"월이름: {now:%B}\")\n",
    "print(f\"ISO형식: {now:%Y-%m-%dT%H:%M:%S}\")\n",
    "print(f\"\\n생일: {birthday:%Y년%m월%d일%H시%M분}\")"
   ]
  },
  {
   "cell_type": "code",
   "execution_count": null,
   "id": "0e9f041a",
   "metadata": {},
   "outputs": [],
   "source": [
    "### 표현식과 함수 호출\n",
    "\n",
    "import math\n",
    "a=10\n",
    "b=3\n",
    "name= \"python\"\n",
    "# 수학연산\n",
    "print(f\"{a} + {b} = {a+ b}\")\n",
    "print(f\"{a}-{b} = {a-b}\")\n",
    "print(f\"{a} * {b} = {a* b}\")\n",
    "print(f\"{a} / {b} = {a/ b:.2f}\")\n",
    "print(f\"{a} ** {b} = {a** b}\")\n",
    "print(f\"{a} % {b} = {a% b}\")\n",
    "# 함수호출\n",
    "print(f\"sqrt({a}) = {math.sqrt(a):.2f}\")\n",
    "print(f\"sin(π/2) = {math.sin(math.pi/2):.2f}\")\n",
    "# 문자열메서드\n",
    "print(f\"대문자: {name.upper()}\")\n",
    "print(f\"길이: {len(name)}\")\n",
    "print(f\"첫글자: {name[0]}\")\n",
    "# 조건식\n",
    "score= 85\n",
    "print(f\"성적: {score}점({'합격' if score >=60 else '불합격'})\")"
   ]
  },
  {
   "cell_type": "code",
   "execution_count": null,
   "id": "36d2dbc9",
   "metadata": {},
   "outputs": [],
   "source": [
    "# 문자열정렬과 패딩\n",
    "text = \"Python\"\n",
    "width = 20\n",
    "\n",
    "print(\"기본정렬:\")\n",
    "print(f\"'{text:<{width}}'\") # 왼쪽정렬\n",
    "print(f\"'{text:>{width}}'\") # 오른쪽정렬\n",
    "print(f\"'{text:^{width}}'\") # 가운데정렬\n",
    "\n",
    "print(\"\\n특수문자로패딩:\")\n",
    "print(f\"'{text:-<{width}}'\") # 왼쪽정렬, -패딩\n",
    "print(f\"'{text:*>{width}}'\") # 오른쪽정렬, * 패딩\n",
    "print(f\"'{text:=^{width}}'\") # 가운데정렬, = 패딩\n",
    "\n",
    "print(\"\\n숫자정렬:\")\n",
    "numbers = [1, 22, 333, 4444]\n",
    "for num in numbers:\n",
    "    print(f\"'{num:>6}'\") # 오른쪽정렬, 폭6\n",
    "\n",
    "print(\"\\n테이블형태:\")\n",
    "data = [\n",
    "    (\"이름\", \"나이\", \"점수\"),\n",
    "    (\"김철수\", 25, 85),\n",
    "    (\"이영희\", 30, 92),\n",
    "    (\"박민수\", 22, 78)\n",
    "]\n",
    "for row in data:\n",
    "    print(f\"{row[0]:<8} {row[1]:>3} {row[2]:>4}\")"
   ]
  },
  {
   "cell_type": "code",
   "execution_count": null,
   "id": "2285d568",
   "metadata": {},
   "outputs": [],
   "source": [
    "# 중괄호 이스케이프와 특수 문자\n",
    "\n",
    "name= \"python\"\n",
    "print(f\"딕셔너리형태: {{'name': '{name}'}}\") # 중괄호출력하기(이중중괄호사용)\n",
    "print(f\"중괄호출력: {{변수}}\")\n",
    "\n",
    "file_path = r\"C:\\Users\\Python\\Documents\"# 백슬래시와따옴표\n",
    "quote= \"She said, 'Hello!'\"\n",
    "\n",
    "print(f\"파일경로: {file_path}\") \n",
    "print(f'인용문: {quote}')\n",
    "\n",
    "# 여러줄f-string\n",
    "multi_line = f\"\"\"\n",
    "이름: {name}\n",
    "길이: {len(name)}\n",
    "대문자: {name.upper()}\n",
    " \"\"\"\n",
    "print(multi_line)\n",
    "\n",
    "# repr() 형태로출력(!r 사용)\n",
    "debug_var= \"hello\\nworld\"\n",
    "print(f\"일반출력: {debug_var}\")\n",
    "print(f\"repr출력: {debug_var!r}\")\n",
    "\n",
    "# 디버깅용출력(Python 3.8+)\n",
    "x=10\n",
    "y=20\n",
    "print(f\"{x=}, {y=}\")\n",
    "print(f\"{x + y=}\")"
   ]
  },
  {
   "cell_type": "code",
   "execution_count": null,
   "id": "567ff716",
   "metadata": {},
   "outputs": [],
   "source": [
    "# 실용 예제 : 진행률 표시, 로그메시지\n",
    "\n",
    "def show_progress(current, total):\n",
    "    percent = (current / total) * 100\n",
    "    bar_length = 20\n",
    "    filled_length = int(bar_length * current // total)\n",
    "    bar = '=' * filled_length + '-' * (bar_length - filled_length)\n",
    "    print(f\"\\r진행률: |{bar}| {percent:.2f}%\", end='')\n",
    "\n",
    "for i in range(0, 101, 20):\n",
    "    print(show_progress(i, 100))\n",
    "\n",
    "print(\"\\n\" + \"=\" * 50)\n",
    "\n",
    "\n",
    "# 2. 로그 메시지 포맷팅\n",
    "import datetime\n",
    "\n",
    "def log_message(level, message):\n",
    "    timestamp = datetime.datetime.now()\n",
    "    return f\"[{timestamp:%Y-%m-%d %H:%M:%S}] [{level:>5}] {message}\"\n",
    "\n",
    "print(log_message(\"INFO\", \"프로그램 시작\"))\n",
    "print(log_message(\"ERROR\", \"파일을 찾을 수 없음\"))\n",
    "print(log_message(\"DEBUG\", f\"x 값: {x}, y 값: {y}\"))\n",
    "\n",
    "print(\"=\" * 50)\n"
   ]
  }
 ],
 "metadata": {
  "kernelspec": {
   "display_name": "Python 3",
   "language": "python",
   "name": "python3"
  },
  "language_info": {
   "codemirror_mode": {
    "name": "ipython",
    "version": 3
   },
   "file_extension": ".py",
   "mimetype": "text/x-python",
   "name": "python",
   "nbconvert_exporter": "python",
   "pygments_lexer": "ipython3",
   "version": "3.13.7"
  }
 },
 "nbformat": 4,
 "nbformat_minor": 5
}
