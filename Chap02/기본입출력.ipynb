{
 "cells": [
  {
   "cell_type": "markdown",
   "id": "63f386ea",
   "metadata": {},
   "source": [
    "## 학번: 202110075 이름: 권준영"
   ]
  },
  {
   "cell_type": "markdown",
   "id": "5c758087",
   "metadata": {},
   "source": [
    "### 1. 키보드에서 임의의 두 실수를 입력 받아 곱한 후 그 결과를 출력하는 프로그램을 작성하고 실행하라"
   ]
  },
  {
   "cell_type": "markdown",
   "id": "07ef7970",
   "metadata": {},
   "source": [
    ">>> a = float(input(\"첫 번째 실수를 입력하세요: \"))   \n",
    "첫 번째 실수를 입력하세요: 1.5\n",
    ">>> b = float(input(\"두 번째 실수를 입력하세요: \"))   \n",
    "두 번째 실수를 입력하세요: 3.1\n",
    ">>> print(\"두 수의 곱은:\", a * b)\n",
    "두 수의 곱은: 4.65"
   ]
  },
  {
   "cell_type": "markdown",
   "id": "1aabea65",
   "metadata": {},
   "source": [
    "### 2. 1마일은 1.609KM이다. 키보드에서 마일(정수)을 입력 받아 KM로 변환해 출력하는 프로그램을 작성하고 실행하라."
   ]
  },
  {
   "cell_type": "markdown",
   "id": "cc0a7185",
   "metadata": {},
   "source": [
    ">>> a = int(input(\" 마일을 입력하세요: \"))\n",
    " 마일을 입력하세요: 7\n",
    ">>> print(\"KM로 변환 된 값:\", a * 1.609)\n",
    "KM로 변환 된 값: 11.263"
   ]
  },
  {
   "cell_type": "markdown",
   "id": "c0c931e8",
   "metadata": {},
   "source": [
    "### 3. 원의 반지름을입력 받아 원의 둘레와 원의 면적을출력하는 프로그램을 작성하라"
   ]
  },
  {
   "cell_type": "markdown",
   "id": "f858832f",
   "metadata": {},
   "source": [
    ">>> r = float(input(\"원의 반지름을 입력하세요: \"))\n",
    "원의 반지름을 입력하세요: 2.5\n",
    ">>> 둘레 = 2 * 3.141592 * r\n",
    ">>> 면적 = 3.141592 * r * r\n",
    ">>> print(\"원의 둘레:\", 둘레)\n",
    "원의 둘레: 15.70796\n",
    ">>> print(\"원의 면적:\", 면적)\n",
    "원의 면적: 19.63495"
   ]
  }
 ],
 "metadata": {
  "kernelspec": {
   "display_name": "Python 3",
   "language": "python",
   "name": "python3"
  },
  "language_info": {
   "codemirror_mode": {
    "name": "ipython",
    "version": 3
   },
   "file_extension": ".py",
   "mimetype": "text/x-python",
   "name": "python",
   "nbconvert_exporter": "python",
   "pygments_lexer": "ipython3",
   "version": "3.13.7"
  }
 },
 "nbformat": 4,
 "nbformat_minor": 5
}
