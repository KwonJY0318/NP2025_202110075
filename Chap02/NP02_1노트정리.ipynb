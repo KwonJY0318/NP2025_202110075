{
 "cells": [
  {
   "cell_type": "markdown",
   "id": "b96d26fa",
   "metadata": {},
   "source": [
    "## 학번 202110075 이름: 권준영\n"
   ]
  },
  {
   "cell_type": "markdown",
   "id": "f803d241",
   "metadata": {},
   "source": [
    "## 기본 입출력 함수\n",
    "\n",
    "### print() 함수\n",
    "    숫자나 문자열 등의 데이터나 수식을 화면에 출력할 때 사용"
   ]
  },
  {
   "cell_type": "code",
   "execution_count": 2,
   "id": "a32b00c4",
   "metadata": {},
   "outputs": [
    {
     "name": "stdout",
     "output_type": "stream",
     "text": [
      "30\n",
      "서원대학교\n",
      "abc abc abc \n",
      "25 32\n",
      "25 + 32 = 57\n"
     ]
    }
   ],
   "source": [
    "print(10+20) #( ) 속의연산결과출력\n",
    "print(\"서원대학교\") #문자열출력\n",
    "print(\"abc \" * 3) #문자열3번출력\n",
    "x = 25\n",
    "y = 32\n",
    "z = x + y\n",
    "print(x, y) #변수x, y 값출력\n",
    "print(x, '+', y, '=',z) #문자열과변수의조합출력"
   ]
  },
  {
   "cell_type": "markdown",
   "id": "baf6ec80",
   "metadata": {},
   "source": [
    "### print() 함수-서식 지정\n",
    "    숫자나 문자열 등의 데이터를 서식을 지정하여 화면에 출력할 때 사용\n"
   ]
  },
  {
   "cell_type": "code",
   "execution_count": 3,
   "id": "40a6fae3",
   "metadata": {},
   "outputs": [
    {
     "name": "stdout",
     "output_type": "stream",
     "text": [
      "30\n",
      "1020\n",
      "abc abc abc \n",
      "n=10\n",
      "m=5.2, n=10\n"
     ]
    }
   ],
   "source": [
    "print(10+20)\n",
    "print(\"10\"+\"20\") #문자열잇기\n",
    "print(\"abc \" * 3) #문자열3번출력\n",
    "n = 10\n",
    "print(\"n=%d\" %n) #서식지정출력\n",
    "m = 5.2\n",
    "print(\"m=%.1f, n=%d\" %(m,n)) #%.1f = 소솟점1자리까지표시"
   ]
  },
  {
   "cell_type": "markdown",
   "id": "363abbc9",
   "metadata": {},
   "source": [
    "### input() 함수\n",
    "    키보드를 이용하여 숫자나 문자열 등의 데이터를 입력 받을 때 사용한다.\n",
    "    입력된 정보는 문자열"
   ]
  },
  {
   "cell_type": "markdown",
   "id": "b8ac420f",
   "metadata": {},
   "source": [
    ">>> n = input('type a number: ')\n",
    "type a number: 3\n",
    ">>> n\n",
    "'3'\n",
    ">>> int(n)\n",
    "3\n",
    ">>> n = str(3)\n",
    ">>> n\n",
    "'3'"
   ]
  },
  {
   "cell_type": "markdown",
   "id": "863fbc52",
   "metadata": {},
   "source": [
    "## 기본 자료형\n",
    "\n",
    "### 부울혈\n",
    "    참 또는 거짓 중 하나의 값을 갖는 자료형\n",
    "    비교 결과를 저장할 때 사용"
   ]
  },
  {
   "cell_type": "code",
   "execution_count": 2,
   "id": "15eb1972",
   "metadata": {},
   "outputs": [
    {
     "data": {
      "text/plain": [
       "False"
      ]
     },
     "execution_count": 2,
     "metadata": {},
     "output_type": "execute_result"
    }
   ],
   "source": [
    "aVar = True\n",
    "bVar = False\n",
    "type(aVar)\n",
    "\n",
    "a = 1\n",
    "b = 2\n",
    "c = a > b\n",
    "c"
   ]
  },
  {
   "cell_type": "code",
   "execution_count": 3,
   "id": "07851e92",
   "metadata": {},
   "outputs": [
    {
     "data": {
      "text/plain": [
       "True"
      ]
     },
     "execution_count": 3,
     "metadata": {},
     "output_type": "execute_result"
    }
   ],
   "source": [
    "aVar = True\n",
    "bVar = False\n",
    "type(aVar)\n",
    "\n",
    "a = 1\n",
    "b = 2\n",
    "d = a < b\n",
    "d"
   ]
  },
  {
   "cell_type": "markdown",
   "id": "0da8d9f7",
   "metadata": {},
   "source": [
    "### 정수형\n",
    "    소수점이 없는 숫자 표현"
   ]
  },
  {
   "cell_type": "code",
   "execution_count": 4,
   "id": "8190d2d2",
   "metadata": {},
   "outputs": [
    {
     "data": {
      "text/plain": [
       "int"
      ]
     },
     "execution_count": 4,
     "metadata": {},
     "output_type": "execute_result"
    }
   ],
   "source": [
    "intVar = 5\n",
    "type(intVar)"
   ]
  },
  {
   "cell_type": "markdown",
   "id": "f2738570",
   "metadata": {},
   "source": [
    "### 실수형"
   ]
  },
  {
   "cell_type": "code",
   "execution_count": 5,
   "id": "8d3578f5",
   "metadata": {},
   "outputs": [
    {
     "data": {
      "text/plain": [
       "float"
      ]
     },
     "execution_count": 5,
     "metadata": {},
     "output_type": "execute_result"
    }
   ],
   "source": [
    "fVar = 1.0\n",
    "type(fVar)"
   ]
  },
  {
   "cell_type": "markdown",
   "id": "ea2d9b34",
   "metadata": {},
   "source": [
    "### 문자열\n",
    "    나열된 문자들\n",
    "    '' 또는 \"\"로 둘러 쌈"
   ]
  },
  {
   "cell_type": "code",
   "execution_count": 9,
   "id": "67e0191b",
   "metadata": {},
   "outputs": [
    {
     "data": {
      "text/plain": [
       "'This is another string'"
      ]
     },
     "execution_count": 9,
     "metadata": {},
     "output_type": "execute_result"
    }
   ],
   "source": [
    "strVar = \"test\"\n",
    "type(strVar)\n",
    "\n",
    "'This is a literal string'\n",
    "\"This is another string\""
   ]
  },
  {
   "cell_type": "markdown",
   "id": "8f006b37",
   "metadata": {},
   "source": [
    "## 연산자\n",
    "\n",
    "### 지정 연산자 (할당연산자)"
   ]
  },
  {
   "cell_type": "code",
   "execution_count": 10,
   "id": "27c67cb5",
   "metadata": {},
   "outputs": [],
   "source": [
    "i = 3\n",
    "i = i + 2"
   ]
  },
  {
   "cell_type": "markdown",
   "id": "7d9bd0c6",
   "metadata": {},
   "source": [
    "### 산술 연산자\n",
    "    사칙연산자: + - * /\n",
    "    정수나눗셈: //\n",
    "    나머지 연산: %"
   ]
  },
  {
   "cell_type": "code",
   "execution_count": 13,
   "id": "82ddae79",
   "metadata": {},
   "outputs": [
    {
     "data": {
      "text/plain": [
       "(1, 3, 3.3333333333333335)"
      ]
     },
     "execution_count": 13,
     "metadata": {},
     "output_type": "execute_result"
    }
   ],
   "source": [
    "a = 10\n",
    "b = 3\n",
    "c = a % b\n",
    "d = a // b\n",
    "e = a / b\n",
    "c, d, e"
   ]
  },
  {
   "cell_type": "markdown",
   "id": "0f031dd6",
   "metadata": {},
   "source": [
    "### 관계 연산자\n",
    "    비교연산자\n",
    "    항의 대소관계 또는 동등관계 판정\n",
    "    연산결과는 참 또는 거짓으로 나온다."
   ]
  },
  {
   "cell_type": "code",
   "execution_count": 14,
   "id": "1079bf41",
   "metadata": {},
   "outputs": [
    {
     "name": "stdout",
     "output_type": "stream",
     "text": [
      "True\n",
      "False\n",
      "False\n",
      "True\n"
     ]
    }
   ],
   "source": [
    "score = 95\n",
    "print(score >= 90) #90점이상이면 True, 아니면 False\n",
    "print(score < 80) #80점미만이면 True, 아니면 False\n",
    "print(score == 90) #90점이면 True, 아니면 False\n",
    "print(score != 80) #80점이 아니면 True, 아니면 False"
   ]
  },
  {
   "cell_type": "markdown",
   "id": "487a4cbd",
   "metadata": {},
   "source": [
    "### 논리 연산자\n",
    "    논리곱, 논리합, 논리부정\n",
    "    논리 연산의 대상은 참 또는 거짓 결과도 참 또는 거짓으로 나온다.\n"
   ]
  },
  {
   "cell_type": "markdown",
   "id": "567150e1",
   "metadata": {},
   "source": [
    ">>> exam = 85\n",
    ">>> report = 85\n",
    ">>> exam >= 80 and report >= 80\n",
    "Ture\n",
    ">>> exam >= 90 of report >= 90\n",
    "False\n",
    ">>> not(exam < 90)\n",
    "False"
   ]
  },
  {
   "cell_type": "markdown",
   "id": "441ee85c",
   "metadata": {},
   "source": [
    "### 멤버 연산자\n",
    "    특정 문자열 또는 값이 문자열 또는 리스트에 속해 있는지 판별하는 연산자"
   ]
  },
  {
   "cell_type": "markdown",
   "id": "664142cf",
   "metadata": {},
   "source": [
    ">>> 'py' in 'python'\n",
    "Ture\n",
    ">>> 'ty' not in 'python'\n",
    "Ture"
   ]
  },
  {
   "cell_type": "markdown",
   "id": "27d9e0c3",
   "metadata": {},
   "source": [
    "### 식별 연산자\n",
    "    is : 양쪽변수의주소가같은지판단. if id(a) == id(b)\n",
    "    is not : 양쪽변수의주소가다른지판단. if id(a) != id(b)"
   ]
  },
  {
   "cell_type": "markdown",
   "id": "022cb9c9",
   "metadata": {},
   "source": [
    ">>> a = 2\n",
    ">>> b = 2\n",
    ">>> id(a)\n",
    "140715357795272\n",
    ">>>if(b)\n",
    "140715357795272"
   ]
  },
  {
   "cell_type": "markdown",
   "id": "5e121518",
   "metadata": {},
   "source": []
  }
 ],
 "metadata": {
  "kernelspec": {
   "display_name": "Python 3",
   "language": "python",
   "name": "python3"
  },
  "language_info": {
   "codemirror_mode": {
    "name": "ipython",
    "version": 3
   },
   "file_extension": ".py",
   "mimetype": "text/x-python",
   "name": "python",
   "nbconvert_exporter": "python",
   "pygments_lexer": "ipython3",
   "version": "3.13.7"
  }
 },
 "nbformat": 4,
 "nbformat_minor": 5
}
