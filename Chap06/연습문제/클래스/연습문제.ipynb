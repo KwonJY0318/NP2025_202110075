{
 "cells": [
  {
   "cell_type": "code",
   "execution_count": null,
   "id": "b235f3c7",
   "metadata": {},
   "outputs": [
    {
     "name": "stdout",
     "output_type": "stream",
     "text": [
      "1000원 저축. 현재 총액: 1000원.\n",
      "200원 인출. 현재 총액: 800원.\n",
      "최종 총액: 800원.\n"
     ]
    }
   ],
   "source": [
    "class Moneybox:\n",
    "    def __init__(self):\n",
    "        # 총액을 0으로 초기화하는 인스턴스 변수입니다.\n",
    "        self.total = 0\n",
    "\n",
    "    def deposit(self, money):\n",
    "        \"\"\"돈을 저축하고 현재 총액을 출력합니다.\"\"\"\n",
    "        self.total += money\n",
    "        print(f\"{money}원 저축. 현재 총액: {self.total}원.\")\n",
    "\n",
    "    def extract(self, money):\n",
    "        \"\"\"돈을 인출하고 현재 총액을 출력합니다.\"\"\"\n",
    "        if self.total >= money:\n",
    "            self.total -= money\n",
    "            print(f\"{money}원 인출. 현재 총액: {self.total}원.\")\n",
    "        else:\n",
    "            print(\"잔액이 부족하여 인출할 수 없습니다.\")\n",
    "\n",
    "    def get_total(self):\n",
    "        \"\"\"현재 총액을 반환합니다.\"\"\"\n",
    "        return self.total\n",
    "\n",
    "# Moneybox 클래스의 객체를 생성\n",
    "my_money = Moneybox()\n",
    "\n",
    "# 1000원을 저축\n",
    "my_money.deposit(1000)\n",
    "\n",
    "# 200원을 인출\n",
    "my_money.extract(200)\n",
    "\n",
    "# get_total 메소드를 사용하여 최종 총액을 출력합니다.\n",
    "print(f\"최종 총액: {my_money.get_total()}원.\")"
   ]
  },
  {
   "cell_type": "code",
   "execution_count": null,
   "id": "c14a595e",
   "metadata": {},
   "outputs": [],
   "source": []
  },
  {
   "cell_type": "code",
   "execution_count": null,
   "id": "9fbaa332",
   "metadata": {},
   "outputs": [],
   "source": []
  }
 ],
 "metadata": {
  "kernelspec": {
   "display_name": "Python 3",
   "language": "python",
   "name": "python3"
  },
  "language_info": {
   "codemirror_mode": {
    "name": "ipython",
    "version": 3
   },
   "file_extension": ".py",
   "mimetype": "text/x-python",
   "name": "python",
   "nbconvert_exporter": "python",
   "pygments_lexer": "ipython3",
   "version": "3.13.7"
  }
 },
 "nbformat": 4,
 "nbformat_minor": 5
}
