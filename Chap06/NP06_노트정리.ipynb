{
 "cells": [
  {
   "cell_type": "markdown",
   "id": "d979355c",
   "metadata": {},
   "source": [
    "## 학번: 202110075 이름: 권준영"
   ]
  },
  {
   "cell_type": "markdown",
   "id": "de2867ae",
   "metadata": {},
   "source": [
    "### 6장 노트정리"
   ]
  },
  {
   "cell_type": "markdown",
   "id": "4f58fa2a",
   "metadata": {},
   "source": [
    "### 클래스\n",
    "    객체 지향 프로그렘은 객체(object)의 속성(변수)과 동작(함수)을 나타내는 클래스를 정의하고, 이로부터 객체를 생성(인스턴스화)하여 작성한 프로그램이다.\n",
    "\n",
    "    클래스와 객체는 붕어빵틀과 붕어빵의 관계\n",
    "\n",
    "    클래스의 동작을 나타내는 함수는 메소드라고 한다.\n",
    "\n",
    "    클래스는 다른 클래스로부터 상속받을 수 있다. 상속 클래스는 부모 클래스가 갖지 않는 속성과 메소드를 가질 수 있다.\n",
    "\n",
    "    개겣는 클래스의 속성과 메소드를 갖는다.\n",
    "\n",
    "    객체는 일반 변수처럼 사용된다. 함수는 인자로 사용되고, 함수에서 객체를 반환 할 수도 있다. 튜플이나 딕셔너리의 요소로 사용될 수 있다."
   ]
  },
  {
   "cell_type": "markdown",
   "id": "e29aa734",
   "metadata": {},
   "source": [
    "### 클래스 초기화 함수\n",
    "\n",
    "    초기화 함수(__init__())\n",
    "        객체를 생성할 때 자동실행 메소드\n",
    "        \n",
    "        인스턴스 변수(self.ver)를 초기화할 때 사용된다.\n",
    "\n",
    "        self를 첫 번째 매개변수로 가지며, self는 클래스 객체를 나타낸다.\n",
    "\n",
    "        인스턴스 변수는 클래스 내부의 모든 메소드에서 사용할 수 있다.\n"
   ]
  },
  {
   "cell_type": "markdown",
   "id": "fffff0b1",
   "metadata": {},
   "source": [
    "### 클래스 상속\n",
    "    상속은 기존에 만들어진 클래스로부터 속성과 메소드를 이어받고 자신이 필요한 기능을 추가하는 기법이다.\n",
    "\n",
    "    상위 클래스 = 부모 클래스 또는 super class\n",
    "\n",
    "    하위 클래스 = 자식 클래스 또는 sub class\n",
    "\n",
    "    파이썬 프로그램의 모듈은 대부분 클래스로 규현되어 있고 자신의 프로그램에서는 모듈에 포함된 부모 클래스를 상속받아 구현된다."
   ]
  },
  {
   "cell_type": "markdown",
   "id": "ee7d0a5d",
   "metadata": {},
   "source": [
    "### 메소드 오버라이딩(Method Overriding)\n",
    "    자식클래스에서 부모클래스의 메소드를 수정해 다시 정의하는 것"
   ]
  },
  {
   "cell_type": "markdown",
   "id": "a367d068",
   "metadata": {},
   "source": [
    "### 가시성(Visibility)\n",
    "    파이썬은 C++/자바와 달리 접근 제어자(public, protected, private)가 엄격하게 적용되지 않는다. 하지만 관례적으로 다음과 같이 가시성을 표현한다.\n",
    "\n",
    "    public: 이름 앞에 밑줄 없음(예:value) -> 어디서나 접근 가능\n",
    "\n",
    "    protected: 이름 앞에 밑줄 1개(예: _value) -> 하위 클래스에서 접근 권장, 외부에서 직접 접근은 권장하지 않음\n",
    "\n",
    "    private: 이름 앞에 밑줄 2개(예: __value) -> 클래스 내부에서만 접근, 이름은 맹글링(name mangling)되어 외부/하위클래스에서 직접 접근 어렵게 만듦"
   ]
  },
  {
   "cell_type": "markdown",
   "id": "02c7cef3",
   "metadata": {},
   "source": [
    "### 추상 함수(abstract methods)\n",
    "    파이썬에서 추상 메서드\n",
    "        abc 모듈의 ABC(Abstract Base Class)와 @abstractmethod 데코레이터를 사용해 정의\n",
    "\n",
    "        추상 메서드는 반드시 하위 클래스에서 구현해야 하며, 직접 인스턴스화할 수 없음"
   ]
  },
  {
   "cell_type": "markdown",
   "id": "696f040c",
   "metadata": {},
   "source": [
    "### 정적 멤버(static variable, static methods)\n",
    "    파이썬에서 정적 메서드\n",
    "        파이썬에서 static member(정적 멤버, 클래스 변수)는 클래스 전체에서 공유되는 변수\n",
    "\n",
    "        클래스 변수, 클래스 메소드라고 함\n",
    "\n",
    "        메서드의 경우 @staticmethod 데코레이터를 사용해 정적 메서드를 정의\n",
    "\n",
    "        정적 변수는 클래스 안에 self가 아닌 일반 변수로 선언하고 클래스.변수 형태로 접근"
   ]
  },
  {
   "cell_type": "markdown",
   "id": "7314213c",
   "metadata": {},
   "source": [
    "### Dunder methods\n",
    "    Dunder\n",
    "        Double Underlines 의 약자\n",
    "\n",
    "        파이썬에서는 Underline은 특별한 의미로 사용할 때가 많음\n",
    "\n",
    "        __XXX__ 메소드는 자동으로 호출되는 경우가 많음\n",
    "        \n",
    "        이러한 메소드를 재정의 하여 사용자 코드를 수행하도록 할 수 있음\n",
    "\n",
    "    Dunder Methods 예: dir(object)\n",
    "        __init__(self): 클래스 생성함수, 객체 만들어질 때 자동 실행\n",
    "\n",
    "        __str__(self): 클래스 객체를 문자열로 형병변환 할 때 자동 실행\n",
    "\n",
    "        __eq__(self,other) : 이 객체와 다른 객체를 같은지 여부\n",
    "\n",
    "        __gt__(self,other) : 이 객체가 다른 객체보다 큰지 여부"
   ]
  },
  {
   "cell_type": "markdown",
   "id": "5a68def5",
   "metadata": {},
   "source": [
    "### 파이썬 데코레이터\n",
    "    함수나 클래스의 동작을 수정하거나 확장할 때 사용하는 문법\n",
    "        함수(또는 메서드) 정의 위에 @데코레이터이름 형태로 사용\n",
    "\n",
    "        해당 함수가 호출될 때 데코레이터 함수 내에서 해당 함수가 실행\n",
    "\n",
    "        데코레이터 함수의 정의는 다음 형식을 따라 wrapper 이름의 멤버 메소드를 정의"
   ]
  },
  {
   "cell_type": "markdown",
   "id": "516567b3",
   "metadata": {},
   "source": [
    "### 기존 함수를 확장(데코레이터를 통한)하기 위한 방법\n",
    "    이미 작성된 함수의 기능을 확장할 때 2가지 방법\n",
    "        1. 함수 재할당\n",
    "            장식이 된 함수명을 기존 함수명으로 그대로 사용하게 하고 싶을 때: 기존 클라이언트 코드 변경 없이\n",
    "\n",
    "            원본 함수명 = decorator(원본 함수명)\n",
    "\n",
    "        2. 다른 함수명\n",
    "            장식이 된 함수명을 새로운 함수명으로 명명하여 사용해도 좋을 때: 새롭게 클라이언트 함수를 짤 때\n",
    "\n",
    "            신규 함수명 = decorator(원본 함수명)"
   ]
  },
  {
   "cell_type": "markdown",
   "id": "fb39b92f",
   "metadata": {},
   "source": []
  }
 ],
 "metadata": {
  "language_info": {
   "name": "python"
  }
 },
 "nbformat": 4,
 "nbformat_minor": 5
}
