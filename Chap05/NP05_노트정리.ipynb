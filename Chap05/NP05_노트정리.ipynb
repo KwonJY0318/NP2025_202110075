{
 "cells": [
  {
   "cell_type": "markdown",
   "id": "5f12f9ad",
   "metadata": {},
   "source": [
    "## 학번: 202110075 이름: 권준영"
   ]
  },
  {
   "cell_type": "markdown",
   "id": "d9a78870",
   "metadata": {},
   "source": [
    "## 5장 노트정리"
   ]
  },
  {
   "cell_type": "markdown",
   "id": "3b6c5d68",
   "metadata": {},
   "source": [
    "### 함수란?\n",
    "    이름을 붙여 반복적으로 사용할 수 있는 프로그램 부분\n",
    "\n",
    "### 함수를 사용하는 이유\n",
    "    프로그램 안에서 중복된 코드를 제거한다.\n",
    "    복잡한 프로그래밍 작업을 더 간단한 작업들로 분해할 수 있다.\n",
    "    함수는 한번 만들어지면 다른 프로그램에서도 재사용될 수 있다.\n",
    "    함수를 사용하면 가독성이 증대되고, 유지 관리도 쉬워진다."
   ]
  },
  {
   "cell_type": "markdown",
   "id": "65f68cff",
   "metadata": {},
   "source": [
    "### 지역 변수(local variable)와 전역 변수(global variable)\n",
    "    지역 변수: 함수 내에서만 값이 유효하다.\n",
    "    전역 변수: 프로그램 전체에서 값이 유효하다."
   ]
  },
  {
   "cell_type": "markdown",
   "id": "1e93f921",
   "metadata": {},
   "source": [
    "### 람다(무명) 함수\n",
    "    이름이 없는 한 줄짜리 함수"
   ]
  },
  {
   "cell_type": "markdown",
   "id": "e13240d5",
   "metadata": {},
   "source": [
    "### 재귀 함수(recursion function)\n",
    "    함수 내에서 자기 자신을 호출하는 함수\n",
    "    같은 동작을 반복할 때 재귀 함수를 사용한다.\n",
    "    함수가 종료되는 조건을 반드시 포함해야 한다."
   ]
  },
  {
   "cell_type": "markdown",
   "id": "e4fb7dbc",
   "metadata": {},
   "source": [
    "### 내장 함수"
   ]
  },
  {
   "cell_type": "markdown",
   "id": "37aa47bd",
   "metadata": {},
   "source": [
    "### eval\n",
    "\n",
    ">>> n = 1      \n",
    ">>> m = 2\n",
    ">>> eval('n+m')\n",
    "3"
   ]
  },
  {
   "cell_type": "markdown",
   "id": "31697da9",
   "metadata": {},
   "source": [
    "### int <-> bin, oct, hex\n",
    "\n",
    ">>> int('123')\n",
    "123\n",
    ">>> int('1010', 16)\n",
    "4112"
   ]
  },
  {
   "cell_type": "markdown",
   "id": "ef71bffb",
   "metadata": {},
   "source": [
    "### filter\n",
    "\n",
    ">>> list(filter(lambda x: len(x)>2, ['this', 'is', 'a', 'test']))\n",
    "['this', 'test']"
   ]
  },
  {
   "cell_type": "markdown",
   "id": "e8f43dd8",
   "metadata": {},
   "source": [
    "### map\n",
    "\n",
    "    sep의 각 요소에 대해 func를 호출하여 실행하고 결과를 iterable로 반환"
   ]
  },
  {
   "cell_type": "markdown",
   "id": "bb35fd33",
   "metadata": {},
   "source": [
    "### ord (반대: chr)\n",
    "\n",
    "    ord(ch) - ordinal 의 약자\n",
    "    Ch에 대한 ASCII 코드 반환\n",
    "    ord('A') = 65\n",
    "    hex(ord(\"한\")) = 0xd55c"
   ]
  },
  {
   "cell_type": "markdown",
   "id": "3a22f12e",
   "metadata": {},
   "source": [
    "### repr\n",
    "    repr(obj)\n",
    "    obj를 문자열로 변환\n",
    "    repr(b'0011') = \"b'0011'\""
   ]
  },
  {
   "cell_type": "markdown",
   "id": "4f2db203",
   "metadata": {},
   "source": [
    "### round\n",
    "    round(x, n=0)\n",
    "    실수 x를 소수점 아래 n자리로 반올림하여 반환\n",
    "    "
   ]
  },
  {
   "cell_type": "markdown",
   "id": "412dbe14",
   "metadata": {},
   "source": [
    "### zip\n",
    "    zip(seq, *seqs)\n",
    "    seq 요소와 *seqs 요소의 튜플쌍으로 만들어 리스트 iterable 반환"
   ]
  },
  {
   "cell_type": "markdown",
   "id": "3c7dc611",
   "metadata": {},
   "source": [
    "### 명시적 타입 습관\n",
    "\n",
    "### 타입힌트의 장점\n",
    "    코드의 가독성 향상: 함수의 입력값과 반환값 타입을 명확히 하여 코드 이해가 쉬워진다.\n",
    "    버그 예방: 타입 불일치로 인한 오류를 사전에 발견할 수 있습니다.\n",
    "    도구 지원: 타입 검사 도구를 활용해 정적 분석이 가능해집니다.\n",
    "    대규모 프로젝트에서 유지보수성 강화: 여러 개발자가 협업할 때 타입 정보를 통해 의도를 명확히 전달할 수 있습니다."
   ]
  },
  {
   "cell_type": "markdown",
   "id": "d9513617",
   "metadata": {},
   "source": []
  }
 ],
 "metadata": {
  "language_info": {
   "name": "python"
  }
 },
 "nbformat": 4,
 "nbformat_minor": 5
}
