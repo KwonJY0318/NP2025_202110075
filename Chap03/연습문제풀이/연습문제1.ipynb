{
 "cells": [
  {
   "cell_type": "markdown",
   "id": "37bdb5b9",
   "metadata": {},
   "source": [
    "## 이름: 권준영 학번: 202110075 "
   ]
  },
  {
   "cell_type": "markdown",
   "id": "96921475",
   "metadata": {},
   "source": [
    "### while 연습문제\n",
    "    10진수를 입력 받아 2진수로 변환하여 출력하는 프로그램"
   ]
  },
  {
   "cell_type": "code",
   "execution_count": null,
   "id": "c9877699",
   "metadata": {},
   "outputs": [],
   "source": [
    "n = int(input('숫자를 입력하시오.: '))\n",
    "a = ''\n",
    "\n",
    "while n != 0:\n",
    "    m = n % 2\n",
    "    a = str(m) + a\n",
    "    n = n // 2\n",
    "\n",
    "print(\"2진수 = \", a)"
   ]
  }
 ],
 "metadata": {
  "language_info": {
   "name": "python"
  }
 },
 "nbformat": 4,
 "nbformat_minor": 5
}
