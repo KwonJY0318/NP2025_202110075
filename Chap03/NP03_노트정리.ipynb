{
 "cells": [
  {
   "cell_type": "markdown",
   "id": "9221a27c",
   "metadata": {},
   "source": [
    "## 학번: 202110075 이름: 권준영"
   ]
  },
  {
   "cell_type": "markdown",
   "id": "3a322401",
   "metadata": {},
   "source": [
    "## 3장 노트정리"
   ]
  },
  {
   "cell_type": "markdown",
   "id": "06a9c394",
   "metadata": {},
   "source": [
    "### 프로그램 제어문\n",
    "\n",
    "### if 제어문\n",
    "    if문은 조건을 만족하면 블록을 실행하고 아니면 실행하지 않는 제어문이다.\n",
    "\n",
    "    1. if문\n",
    "    2. if-else문\n",
    "    3. if-elif-else문\n",
    "\n",
    "    if문\n",
    "        조건을 만족할 때 정해진 문장 블록을 실행\n",
    "        조건이 참이면 블록을 실행하고 아니면 블록을 건너 뛴다.\n",
    "    \n",
    "    if-else문\n",
    "        조건이 참이면 block1을 실행하고 else는 무시\n",
    "        참이 아닐시 else 다음 block2를 실행한다.\n",
    "\n",
    "    if-elif-else문\n",
    "        if조건1이 참이면 블록1, if조건1이 거짓이고, elif 조건2이 참이면 블록2, 조건이 모두 거짓이면 블록3이 실행된다."
   ]
  },
  {
   "cell_type": "markdown",
   "id": "fe783540",
   "metadata": {},
   "source": [
    "### 반복문\n",
    "\n",
    "### While문\n",
    "    조건이 만족되면 블록을 실행하고 다시 조건을 조사\n",
    "    조건이 만족되지 않으면 다음 문장 실행"
   ]
  },
  {
   "cell_type": "markdown",
   "id": "1c15a48d",
   "metadata": {},
   "source": [
    "### for 제어문\n",
    "\n",
    "### for문\n",
    "    [반복객체]의 각 요소의 값을 하나씩 [변수]에 저장하고 블록을 실행\n",
    "    [반복객체]에 더 이상의 요소가 없을 때까지 반복"
   ]
  },
  {
   "cell_type": "markdown",
   "id": "f4071775",
   "metadata": {},
   "source": [
    "### for-range문\n",
    "    range() 함수는 반복 객체를 생성하는 함수\n",
    "    변수 값을 start부터 시작하여 step 만큼 증가시키며 stop될 때까지 실행. step =1 이면 생략"
   ]
  },
  {
   "cell_type": "markdown",
   "id": "a34e3608",
   "metadata": {},
   "source": [
    "### 기타 제어문\n",
    "\n",
    "### break문\n",
    "    반복문을 빠져나올 때 사용\n",
    "\n",
    "### continue 문\n",
    "    블록의 나머지 부분은 생략하고 다시 while 조건 조사"
   ]
  },
  {
   "cell_type": "markdown",
   "id": "f21876e9",
   "metadata": {},
   "source": []
  }
 ],
 "metadata": {
  "language_info": {
   "name": "python"
  }
 },
 "nbformat": 4,
 "nbformat_minor": 5
}
